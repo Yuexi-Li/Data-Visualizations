{
 "cells": [
  {
   "cell_type": "markdown",
   "metadata": {},
   "source": [
    "## Topic 4: Box Plots"
   ]
  },
  {
   "cell_type": "markdown",
   "metadata": {},
   "source": [
    "Box plot (whisker plot) displays the five-number summary of a set of data:  \n",
    "<li> **minimum**  \n",
    "<li> **first quartile**: 25th percentile\n",
    "<li> **median**  \n",
    "<li> **third quartile** : 75th percentile\n",
    "<li> **maximum**  "
   ]
  },
  {
   "cell_type": "markdown",
   "metadata": {},
   "source": [
    "### i.import Mo"
   ]
  },
  {
   "cell_type": "code",
   "execution_count": 2,
   "metadata": {},
   "outputs": [],
   "source": [
    "from IPython.display import Image"
   ]
  },
  {
   "cell_type": "markdown",
   "metadata": {},
   "source": [
    "![Image of Diagram-of-boxplot-components-including-mean-median-1st-and-3rd-quartiles-outliers-and](https://www.researchgate.net/profile/Nabin_Basnet11/publication/321962400/figure/fig4/AS:573832927944704@1513823839218/Diagram-of-boxplot-components-including-mean-median-1st-and-3rd-quartiles-outliers-and.jpg)"
   ]
  },
  {
   "cell_type": "code",
   "execution_count": null,
   "metadata": {},
   "outputs": [],
   "source": []
  }
 ],
 "metadata": {
  "kernelspec": {
   "display_name": "Python 3",
   "language": "python",
   "name": "python3"
  },
  "language_info": {
   "codemirror_mode": {
    "name": "ipython",
    "version": 3
   },
   "file_extension": ".py",
   "mimetype": "text/x-python",
   "name": "python",
   "nbconvert_exporter": "python",
   "pygments_lexer": "ipython3",
   "version": "3.6.3"
  }
 },
 "nbformat": 4,
 "nbformat_minor": 2
}
